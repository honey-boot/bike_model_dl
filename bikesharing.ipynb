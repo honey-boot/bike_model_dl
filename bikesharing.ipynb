{
 "cells": [
  {
   "cell_type": "code",
   "execution_count": 1,
   "id": "13add501",
   "metadata": {},
   "outputs": [],
   "source": [
    "import pandas as pd"
   ]
  },
  {
   "cell_type": "code",
   "execution_count": 2,
   "id": "ac4993e7",
   "metadata": {},
   "outputs": [],
   "source": [
    "df=pd.read_csv(r\"A:\\THENMOZHI\\100data_set\\dl_bikesharing_regression\\hour.csv\")"
   ]
  },
  {
   "cell_type": "code",
   "execution_count": 3,
   "id": "58c45704",
   "metadata": {},
   "outputs": [
    {
     "data": {
      "text/html": [
       "<div>\n",
       "<style scoped>\n",
       "    .dataframe tbody tr th:only-of-type {\n",
       "        vertical-align: middle;\n",
       "    }\n",
       "\n",
       "    .dataframe tbody tr th {\n",
       "        vertical-align: top;\n",
       "    }\n",
       "\n",
       "    .dataframe thead th {\n",
       "        text-align: right;\n",
       "    }\n",
       "</style>\n",
       "<table border=\"1\" class=\"dataframe\">\n",
       "  <thead>\n",
       "    <tr style=\"text-align: right;\">\n",
       "      <th></th>\n",
       "      <th>instant</th>\n",
       "      <th>dteday</th>\n",
       "      <th>season</th>\n",
       "      <th>yr</th>\n",
       "      <th>mnth</th>\n",
       "      <th>hr</th>\n",
       "      <th>holiday</th>\n",
       "      <th>weekday</th>\n",
       "      <th>workingday</th>\n",
       "      <th>weathersit</th>\n",
       "      <th>temp</th>\n",
       "      <th>atemp</th>\n",
       "      <th>hum</th>\n",
       "      <th>windspeed</th>\n",
       "      <th>casual</th>\n",
       "      <th>registered</th>\n",
       "      <th>cnt</th>\n",
       "    </tr>\n",
       "  </thead>\n",
       "  <tbody>\n",
       "    <tr>\n",
       "      <th>0</th>\n",
       "      <td>1</td>\n",
       "      <td>2011-01-01</td>\n",
       "      <td>1</td>\n",
       "      <td>0</td>\n",
       "      <td>1</td>\n",
       "      <td>0</td>\n",
       "      <td>0</td>\n",
       "      <td>6</td>\n",
       "      <td>0</td>\n",
       "      <td>1</td>\n",
       "      <td>0.24</td>\n",
       "      <td>0.2879</td>\n",
       "      <td>0.81</td>\n",
       "      <td>0.0</td>\n",
       "      <td>3</td>\n",
       "      <td>13</td>\n",
       "      <td>16</td>\n",
       "    </tr>\n",
       "    <tr>\n",
       "      <th>1</th>\n",
       "      <td>2</td>\n",
       "      <td>2011-01-01</td>\n",
       "      <td>1</td>\n",
       "      <td>0</td>\n",
       "      <td>1</td>\n",
       "      <td>1</td>\n",
       "      <td>0</td>\n",
       "      <td>6</td>\n",
       "      <td>0</td>\n",
       "      <td>1</td>\n",
       "      <td>0.22</td>\n",
       "      <td>0.2727</td>\n",
       "      <td>0.80</td>\n",
       "      <td>0.0</td>\n",
       "      <td>8</td>\n",
       "      <td>32</td>\n",
       "      <td>40</td>\n",
       "    </tr>\n",
       "    <tr>\n",
       "      <th>2</th>\n",
       "      <td>3</td>\n",
       "      <td>2011-01-01</td>\n",
       "      <td>1</td>\n",
       "      <td>0</td>\n",
       "      <td>1</td>\n",
       "      <td>2</td>\n",
       "      <td>0</td>\n",
       "      <td>6</td>\n",
       "      <td>0</td>\n",
       "      <td>1</td>\n",
       "      <td>0.22</td>\n",
       "      <td>0.2727</td>\n",
       "      <td>0.80</td>\n",
       "      <td>0.0</td>\n",
       "      <td>5</td>\n",
       "      <td>27</td>\n",
       "      <td>32</td>\n",
       "    </tr>\n",
       "    <tr>\n",
       "      <th>3</th>\n",
       "      <td>4</td>\n",
       "      <td>2011-01-01</td>\n",
       "      <td>1</td>\n",
       "      <td>0</td>\n",
       "      <td>1</td>\n",
       "      <td>3</td>\n",
       "      <td>0</td>\n",
       "      <td>6</td>\n",
       "      <td>0</td>\n",
       "      <td>1</td>\n",
       "      <td>0.24</td>\n",
       "      <td>0.2879</td>\n",
       "      <td>0.75</td>\n",
       "      <td>0.0</td>\n",
       "      <td>3</td>\n",
       "      <td>10</td>\n",
       "      <td>13</td>\n",
       "    </tr>\n",
       "    <tr>\n",
       "      <th>4</th>\n",
       "      <td>5</td>\n",
       "      <td>2011-01-01</td>\n",
       "      <td>1</td>\n",
       "      <td>0</td>\n",
       "      <td>1</td>\n",
       "      <td>4</td>\n",
       "      <td>0</td>\n",
       "      <td>6</td>\n",
       "      <td>0</td>\n",
       "      <td>1</td>\n",
       "      <td>0.24</td>\n",
       "      <td>0.2879</td>\n",
       "      <td>0.75</td>\n",
       "      <td>0.0</td>\n",
       "      <td>0</td>\n",
       "      <td>1</td>\n",
       "      <td>1</td>\n",
       "    </tr>\n",
       "  </tbody>\n",
       "</table>\n",
       "</div>"
      ],
      "text/plain": [
       "   instant      dteday  season  yr  mnth  hr  holiday  weekday  workingday  \\\n",
       "0        1  2011-01-01       1   0     1   0        0        6           0   \n",
       "1        2  2011-01-01       1   0     1   1        0        6           0   \n",
       "2        3  2011-01-01       1   0     1   2        0        6           0   \n",
       "3        4  2011-01-01       1   0     1   3        0        6           0   \n",
       "4        5  2011-01-01       1   0     1   4        0        6           0   \n",
       "\n",
       "   weathersit  temp   atemp   hum  windspeed  casual  registered  cnt  \n",
       "0           1  0.24  0.2879  0.81        0.0       3          13   16  \n",
       "1           1  0.22  0.2727  0.80        0.0       8          32   40  \n",
       "2           1  0.22  0.2727  0.80        0.0       5          27   32  \n",
       "3           1  0.24  0.2879  0.75        0.0       3          10   13  \n",
       "4           1  0.24  0.2879  0.75        0.0       0           1    1  "
      ]
     },
     "execution_count": 3,
     "metadata": {},
     "output_type": "execute_result"
    }
   ],
   "source": [
    "df.head()"
   ]
  },
  {
   "cell_type": "code",
   "execution_count": 6,
   "id": "89ac397e",
   "metadata": {},
   "outputs": [
    {
     "name": "stdout",
     "output_type": "stream",
     "text": [
      "<class 'pandas.core.frame.DataFrame'>\n",
      "RangeIndex: 17379 entries, 0 to 17378\n",
      "Data columns (total 17 columns):\n",
      " #   Column      Non-Null Count  Dtype         \n",
      "---  ------      --------------  -----         \n",
      " 0   instant     17379 non-null  int64         \n",
      " 1   dteday      17379 non-null  datetime64[ns]\n",
      " 2   season      17379 non-null  int64         \n",
      " 3   yr          17379 non-null  int64         \n",
      " 4   mnth        17379 non-null  int64         \n",
      " 5   hr          17379 non-null  int64         \n",
      " 6   holiday     17379 non-null  int64         \n",
      " 7   weekday     17379 non-null  int64         \n",
      " 8   workingday  17379 non-null  int64         \n",
      " 9   weathersit  17379 non-null  int64         \n",
      " 10  temp        17379 non-null  float64       \n",
      " 11  atemp       17379 non-null  float64       \n",
      " 12  hum         17379 non-null  float64       \n",
      " 13  windspeed   17379 non-null  float64       \n",
      " 14  casual      17379 non-null  int64         \n",
      " 15  registered  17379 non-null  int64         \n",
      " 16  cnt         17379 non-null  int64         \n",
      "dtypes: datetime64[ns](1), float64(4), int64(12)\n",
      "memory usage: 2.3 MB\n"
     ]
    }
   ],
   "source": [
    "df.info()"
   ]
  },
  {
   "cell_type": "code",
   "execution_count": 5,
   "id": "bee25496",
   "metadata": {},
   "outputs": [],
   "source": [
    "df[\"dteday\"]=pd.to_datetime(df[\"dteday\"],format=\"%Y-%m-%d\")"
   ]
  },
  {
   "cell_type": "code",
   "execution_count": 7,
   "id": "2dfcfa3a",
   "metadata": {},
   "outputs": [
    {
     "data": {
      "text/plain": [
       "instant       0\n",
       "dteday        0\n",
       "season        0\n",
       "yr            0\n",
       "mnth          0\n",
       "hr            0\n",
       "holiday       0\n",
       "weekday       0\n",
       "workingday    0\n",
       "weathersit    0\n",
       "temp          0\n",
       "atemp         0\n",
       "hum           0\n",
       "windspeed     0\n",
       "casual        0\n",
       "registered    0\n",
       "cnt           0\n",
       "dtype: int64"
      ]
     },
     "execution_count": 7,
     "metadata": {},
     "output_type": "execute_result"
    }
   ],
   "source": [
    "df.isnull().sum()"
   ]
  },
  {
   "cell_type": "code",
   "execution_count": 8,
   "id": "02cf5ef4",
   "metadata": {},
   "outputs": [
    {
     "data": {
      "text/plain": [
       "np.int64(0)"
      ]
     },
     "execution_count": 8,
     "metadata": {},
     "output_type": "execute_result"
    }
   ],
   "source": [
    "df.duplicated().sum()"
   ]
  },
  {
   "cell_type": "code",
   "execution_count": 10,
   "id": "0bbcdcd8",
   "metadata": {},
   "outputs": [
    {
     "data": {
      "text/plain": [
       "(17379, 17)"
      ]
     },
     "execution_count": 10,
     "metadata": {},
     "output_type": "execute_result"
    }
   ],
   "source": [
    "df.shape"
   ]
  },
  {
   "cell_type": "code",
   "execution_count": 11,
   "id": "3e49df29",
   "metadata": {},
   "outputs": [],
   "source": [
    "df = df.drop(columns=[\"instant\", \"dteday\", \"casual\", \"registered\"])"
   ]
  },
  {
   "cell_type": "code",
   "execution_count": 14,
   "id": "b5e6b0e0",
   "metadata": {},
   "outputs": [],
   "source": [
    "x=df.drop(\"cnt\",axis=1)\n",
    "y=df[\"cnt\"]"
   ]
  },
  {
   "cell_type": "code",
   "execution_count": 15,
   "id": "a487d4a8",
   "metadata": {},
   "outputs": [],
   "source": [
    "from sklearn.model_selection import train_test_split\n",
    "\n",
    "x_train,x_test,y_train,y_test=train_test_split(x,y,test_size=0.2)"
   ]
  },
  {
   "cell_type": "code",
   "execution_count": 16,
   "id": "ad6c38ca",
   "metadata": {},
   "outputs": [],
   "source": [
    "from sklearn.preprocessing import StandardScaler\n",
    "\n",
    "scaler=StandardScaler()\n",
    "x_train_scaled=scaler.fit_transform(x_train)\n",
    "x_test_scaled=scaler.transform(x_test)"
   ]
  },
  {
   "cell_type": "code",
   "execution_count": 18,
   "id": "21d37a0b",
   "metadata": {},
   "outputs": [],
   "source": [
    "from tensorflow.keras.models import Sequential\n",
    "from tensorflow.keras.layers import Dense,Dropout\n",
    "\n",
    "model=Sequential()\n",
    "model.add(Dense(64,input_dim=x_train_scaled.shape[1],activation=\"relu\"))\n",
    "model.add(Dropout(0.2))\n",
    "model.add(Dense(32,activation=\"relu\"))\n",
    "model.add(Dense(16,activation=\"relu\"))\n",
    "model.add(Dense(1))\n",
    "\n",
    "model.compile(loss=\"mse\",optimizer=\"adam\",metrics=[\"mae\"])"
   ]
  },
  {
   "cell_type": "code",
   "execution_count": 19,
   "id": "102df4bd",
   "metadata": {},
   "outputs": [
    {
     "name": "stdout",
     "output_type": "stream",
     "text": [
      "Epoch 1/25\n",
      "\u001b[1m348/348\u001b[0m \u001b[32m━━━━━━━━━━━━━━━━━━━━\u001b[0m\u001b[37m\u001b[0m \u001b[1m2s\u001b[0m 2ms/step - loss: 50203.1172 - mae: 154.6659 - val_loss: 20125.7812 - val_mae: 102.9132\n",
      "Epoch 2/25\n",
      "\u001b[1m348/348\u001b[0m \u001b[32m━━━━━━━━━━━━━━━━━━━━\u001b[0m\u001b[37m\u001b[0m \u001b[1m1s\u001b[0m 2ms/step - loss: 21732.4941 - mae: 108.0372 - val_loss: 19563.5117 - val_mae: 101.8010\n",
      "Epoch 3/25\n",
      "\u001b[1m348/348\u001b[0m \u001b[32m━━━━━━━━━━━━━━━━━━━━\u001b[0m\u001b[37m\u001b[0m \u001b[1m1s\u001b[0m 2ms/step - loss: 20166.1973 - mae: 104.3767 - val_loss: 18827.2441 - val_mae: 100.8589\n",
      "Epoch 4/25\n",
      "\u001b[1m348/348\u001b[0m \u001b[32m━━━━━━━━━━━━━━━━━━━━\u001b[0m\u001b[37m\u001b[0m \u001b[1m1s\u001b[0m 2ms/step - loss: 20226.2188 - mae: 104.6515 - val_loss: 18051.0293 - val_mae: 97.5091\n",
      "Epoch 5/25\n",
      "\u001b[1m348/348\u001b[0m \u001b[32m━━━━━━━━━━━━━━━━━━━━\u001b[0m\u001b[37m\u001b[0m \u001b[1m1s\u001b[0m 2ms/step - loss: 19388.6289 - mae: 101.2102 - val_loss: 17262.6660 - val_mae: 95.5823\n",
      "Epoch 6/25\n",
      "\u001b[1m348/348\u001b[0m \u001b[32m━━━━━━━━━━━━━━━━━━━━\u001b[0m\u001b[37m\u001b[0m \u001b[1m1s\u001b[0m 2ms/step - loss: 18616.1758 - mae: 99.4184 - val_loss: 16595.7383 - val_mae: 91.7229\n",
      "Epoch 7/25\n",
      "\u001b[1m348/348\u001b[0m \u001b[32m━━━━━━━━━━━━━━━━━━━━\u001b[0m\u001b[37m\u001b[0m \u001b[1m1s\u001b[0m 2ms/step - loss: 17465.1719 - mae: 95.6833 - val_loss: 15827.3975 - val_mae: 90.7749\n",
      "Epoch 8/25\n",
      "\u001b[1m348/348\u001b[0m \u001b[32m━━━━━━━━━━━━━━━━━━━━\u001b[0m\u001b[37m\u001b[0m \u001b[1m1s\u001b[0m 2ms/step - loss: 17253.4434 - mae: 94.3360 - val_loss: 14945.8281 - val_mae: 87.6919\n",
      "Epoch 9/25\n",
      "\u001b[1m348/348\u001b[0m \u001b[32m━━━━━━━━━━━━━━━━━━━━\u001b[0m\u001b[37m\u001b[0m \u001b[1m1s\u001b[0m 2ms/step - loss: 16248.1553 - mae: 90.6570 - val_loss: 13269.9189 - val_mae: 78.6290\n",
      "Epoch 10/25\n",
      "\u001b[1m348/348\u001b[0m \u001b[32m━━━━━━━━━━━━━━━━━━━━\u001b[0m\u001b[37m\u001b[0m \u001b[1m1s\u001b[0m 2ms/step - loss: 14342.9121 - mae: 84.9696 - val_loss: 12043.8203 - val_mae: 75.5987\n",
      "Epoch 11/25\n",
      "\u001b[1m348/348\u001b[0m \u001b[32m━━━━━━━━━━━━━━━━━━━━\u001b[0m\u001b[37m\u001b[0m \u001b[1m1s\u001b[0m 2ms/step - loss: 13443.0068 - mae: 81.4148 - val_loss: 11169.6553 - val_mae: 72.4516\n",
      "Epoch 12/25\n",
      "\u001b[1m348/348\u001b[0m \u001b[32m━━━━━━━━━━━━━━━━━━━━\u001b[0m\u001b[37m\u001b[0m \u001b[1m4s\u001b[0m 12ms/step - loss: 12001.2578 - mae: 75.6216 - val_loss: 10432.4453 - val_mae: 68.6276\n",
      "Epoch 13/25\n",
      "\u001b[1m348/348\u001b[0m \u001b[32m━━━━━━━━━━━━━━━━━━━━\u001b[0m\u001b[37m\u001b[0m \u001b[1m3s\u001b[0m 9ms/step - loss: 11050.5889 - mae: 72.2691 - val_loss: 9622.5303 - val_mae: 66.2564\n",
      "Epoch 14/25\n",
      "\u001b[1m348/348\u001b[0m \u001b[32m━━━━━━━━━━━━━━━━━━━━\u001b[0m\u001b[37m\u001b[0m \u001b[1m2s\u001b[0m 5ms/step - loss: 10639.3154 - mae: 70.1264 - val_loss: 9091.9785 - val_mae: 62.0748\n",
      "Epoch 15/25\n",
      "\u001b[1m348/348\u001b[0m \u001b[32m━━━━━━━━━━━━━━━━━━━━\u001b[0m\u001b[37m\u001b[0m \u001b[1m3s\u001b[0m 8ms/step - loss: 9741.2256 - mae: 66.0477 - val_loss: 8455.6953 - val_mae: 61.6035\n",
      "Epoch 16/25\n",
      "\u001b[1m348/348\u001b[0m \u001b[32m━━━━━━━━━━━━━━━━━━━━\u001b[0m\u001b[37m\u001b[0m \u001b[1m3s\u001b[0m 8ms/step - loss: 9807.6113 - mae: 66.5101 - val_loss: 7937.2817 - val_mae: 58.3840\n",
      "Epoch 17/25\n",
      "\u001b[1m348/348\u001b[0m \u001b[32m━━━━━━━━━━━━━━━━━━━━\u001b[0m\u001b[37m\u001b[0m \u001b[1m1s\u001b[0m 2ms/step - loss: 8977.5459 - mae: 63.4744 - val_loss: 7443.7642 - val_mae: 57.2367\n",
      "Epoch 18/25\n",
      "\u001b[1m348/348\u001b[0m \u001b[32m━━━━━━━━━━━━━━━━━━━━\u001b[0m\u001b[37m\u001b[0m \u001b[1m1s\u001b[0m 2ms/step - loss: 8609.6191 - mae: 62.3223 - val_loss: 6920.3193 - val_mae: 54.4625\n",
      "Epoch 19/25\n",
      "\u001b[1m348/348\u001b[0m \u001b[32m━━━━━━━━━━━━━━━━━━━━\u001b[0m\u001b[37m\u001b[0m \u001b[1m1s\u001b[0m 2ms/step - loss: 8599.7246 - mae: 61.8216 - val_loss: 6617.1680 - val_mae: 52.9383\n",
      "Epoch 20/25\n",
      "\u001b[1m348/348\u001b[0m \u001b[32m━━━━━━━━━━━━━━━━━━━━\u001b[0m\u001b[37m\u001b[0m \u001b[1m1s\u001b[0m 2ms/step - loss: 7770.6572 - mae: 58.9043 - val_loss: 6170.4443 - val_mae: 51.6587\n",
      "Epoch 21/25\n",
      "\u001b[1m348/348\u001b[0m \u001b[32m━━━━━━━━━━━━━━━━━━━━\u001b[0m\u001b[37m\u001b[0m \u001b[1m1s\u001b[0m 2ms/step - loss: 7635.1606 - mae: 58.0700 - val_loss: 5723.7070 - val_mae: 51.8334\n",
      "Epoch 22/25\n",
      "\u001b[1m348/348\u001b[0m \u001b[32m━━━━━━━━━━━━━━━━━━━━\u001b[0m\u001b[37m\u001b[0m \u001b[1m1s\u001b[0m 2ms/step - loss: 7136.2539 - mae: 57.3095 - val_loss: 5530.9160 - val_mae: 49.0958\n",
      "Epoch 23/25\n",
      "\u001b[1m348/348\u001b[0m \u001b[32m━━━━━━━━━━━━━━━━━━━━\u001b[0m\u001b[37m\u001b[0m \u001b[1m1s\u001b[0m 2ms/step - loss: 6855.2725 - mae: 55.7062 - val_loss: 5283.0527 - val_mae: 48.6193\n",
      "Epoch 24/25\n",
      "\u001b[1m348/348\u001b[0m \u001b[32m━━━━━━━━━━━━━━━━━━━━\u001b[0m\u001b[37m\u001b[0m \u001b[1m1s\u001b[0m 2ms/step - loss: 6572.7490 - mae: 54.5561 - val_loss: 5066.3701 - val_mae: 48.0487\n",
      "Epoch 25/25\n",
      "\u001b[1m348/348\u001b[0m \u001b[32m━━━━━━━━━━━━━━━━━━━━\u001b[0m\u001b[37m\u001b[0m \u001b[1m1s\u001b[0m 2ms/step - loss: 6256.2080 - mae: 53.1674 - val_loss: 4736.9170 - val_mae: 45.5308\n"
     ]
    }
   ],
   "source": [
    "result = model.fit(x_train_scaled,y_train,epochs=25,validation_split=0.2,batch_size=32)"
   ]
  },
  {
   "cell_type": "code",
   "execution_count": 20,
   "id": "5084b4b4",
   "metadata": {},
   "outputs": [
    {
     "data": {
      "text/plain": [
       "{'loss': [35130.58984375,\n",
       "  21100.708984375,\n",
       "  20312.6640625,\n",
       "  19759.427734375,\n",
       "  19172.560546875,\n",
       "  18407.185546875,\n",
       "  17731.244140625,\n",
       "  17020.373046875,\n",
       "  15825.8857421875,\n",
       "  14165.61328125,\n",
       "  13106.5625,\n",
       "  11981.09375,\n",
       "  11126.734375,\n",
       "  10601.30078125,\n",
       "  9864.341796875,\n",
       "  9385.51171875,\n",
       "  8986.4501953125,\n",
       "  8562.947265625,\n",
       "  8364.3212890625,\n",
       "  7793.09326171875,\n",
       "  7344.0869140625,\n",
       "  7049.65283203125,\n",
       "  6721.9091796875,\n",
       "  6532.4853515625,\n",
       "  6081.70458984375],\n",
       " 'mae': [129.53482055664062,\n",
       "  106.36982727050781,\n",
       "  104.25774383544922,\n",
       "  102.98572540283203,\n",
       "  100.92070007324219,\n",
       "  98.7406005859375,\n",
       "  96.36396026611328,\n",
       "  93.70457458496094,\n",
       "  89.54093170166016,\n",
       "  84.08503723144531,\n",
       "  79.93461608886719,\n",
       "  75.56038665771484,\n",
       "  72.34672546386719,\n",
       "  69.80598449707031,\n",
       "  66.8702392578125,\n",
       "  64.85161590576172,\n",
       "  63.3797721862793,\n",
       "  61.81663131713867,\n",
       "  60.89093017578125,\n",
       "  59.121986389160156,\n",
       "  57.52710723876953,\n",
       "  56.59264373779297,\n",
       "  55.38056182861328,\n",
       "  54.244049072265625,\n",
       "  52.74882507324219],\n",
       " 'val_loss': [20125.78125,\n",
       "  19563.51171875,\n",
       "  18827.244140625,\n",
       "  18051.029296875,\n",
       "  17262.666015625,\n",
       "  16595.73828125,\n",
       "  15827.3974609375,\n",
       "  14945.828125,\n",
       "  13269.9189453125,\n",
       "  12043.8203125,\n",
       "  11169.6552734375,\n",
       "  10432.4453125,\n",
       "  9622.5302734375,\n",
       "  9091.978515625,\n",
       "  8455.6953125,\n",
       "  7937.28173828125,\n",
       "  7443.76416015625,\n",
       "  6920.3193359375,\n",
       "  6617.16796875,\n",
       "  6170.4443359375,\n",
       "  5723.70703125,\n",
       "  5530.916015625,\n",
       "  5283.052734375,\n",
       "  5066.3701171875,\n",
       "  4736.9169921875],\n",
       " 'val_mae': [102.9132308959961,\n",
       "  101.80099487304688,\n",
       "  100.85891723632812,\n",
       "  97.50914764404297,\n",
       "  95.5822982788086,\n",
       "  91.72291564941406,\n",
       "  90.77485656738281,\n",
       "  87.69185638427734,\n",
       "  78.6290283203125,\n",
       "  75.5987319946289,\n",
       "  72.45159149169922,\n",
       "  68.62757110595703,\n",
       "  66.25639343261719,\n",
       "  62.07483673095703,\n",
       "  61.60354995727539,\n",
       "  58.38396072387695,\n",
       "  57.2366943359375,\n",
       "  54.46249771118164,\n",
       "  52.93828201293945,\n",
       "  51.65871047973633,\n",
       "  51.8333740234375,\n",
       "  49.095767974853516,\n",
       "  48.61931228637695,\n",
       "  48.0487174987793,\n",
       "  45.5307731628418]}"
      ]
     },
     "execution_count": 20,
     "metadata": {},
     "output_type": "execute_result"
    }
   ],
   "source": [
    "result.history"
   ]
  },
  {
   "cell_type": "code",
   "execution_count": 22,
   "id": "f628d99a",
   "metadata": {},
   "outputs": [],
   "source": [
    "result_df=pd.DataFrame(result.history)"
   ]
  },
  {
   "cell_type": "code",
   "execution_count": 23,
   "id": "0731fc7b",
   "metadata": {},
   "outputs": [
    {
     "data": {
      "text/html": [
       "<div>\n",
       "<style scoped>\n",
       "    .dataframe tbody tr th:only-of-type {\n",
       "        vertical-align: middle;\n",
       "    }\n",
       "\n",
       "    .dataframe tbody tr th {\n",
       "        vertical-align: top;\n",
       "    }\n",
       "\n",
       "    .dataframe thead th {\n",
       "        text-align: right;\n",
       "    }\n",
       "</style>\n",
       "<table border=\"1\" class=\"dataframe\">\n",
       "  <thead>\n",
       "    <tr style=\"text-align: right;\">\n",
       "      <th></th>\n",
       "      <th>loss</th>\n",
       "      <th>mae</th>\n",
       "      <th>val_loss</th>\n",
       "      <th>val_mae</th>\n",
       "    </tr>\n",
       "  </thead>\n",
       "  <tbody>\n",
       "    <tr>\n",
       "      <th>0</th>\n",
       "      <td>35130.589844</td>\n",
       "      <td>129.534821</td>\n",
       "      <td>20125.781250</td>\n",
       "      <td>102.913231</td>\n",
       "    </tr>\n",
       "    <tr>\n",
       "      <th>1</th>\n",
       "      <td>21100.708984</td>\n",
       "      <td>106.369827</td>\n",
       "      <td>19563.511719</td>\n",
       "      <td>101.800995</td>\n",
       "    </tr>\n",
       "    <tr>\n",
       "      <th>2</th>\n",
       "      <td>20312.664062</td>\n",
       "      <td>104.257744</td>\n",
       "      <td>18827.244141</td>\n",
       "      <td>100.858917</td>\n",
       "    </tr>\n",
       "    <tr>\n",
       "      <th>3</th>\n",
       "      <td>19759.427734</td>\n",
       "      <td>102.985725</td>\n",
       "      <td>18051.029297</td>\n",
       "      <td>97.509148</td>\n",
       "    </tr>\n",
       "    <tr>\n",
       "      <th>4</th>\n",
       "      <td>19172.560547</td>\n",
       "      <td>100.920700</td>\n",
       "      <td>17262.666016</td>\n",
       "      <td>95.582298</td>\n",
       "    </tr>\n",
       "    <tr>\n",
       "      <th>5</th>\n",
       "      <td>18407.185547</td>\n",
       "      <td>98.740601</td>\n",
       "      <td>16595.738281</td>\n",
       "      <td>91.722916</td>\n",
       "    </tr>\n",
       "    <tr>\n",
       "      <th>6</th>\n",
       "      <td>17731.244141</td>\n",
       "      <td>96.363960</td>\n",
       "      <td>15827.397461</td>\n",
       "      <td>90.774857</td>\n",
       "    </tr>\n",
       "    <tr>\n",
       "      <th>7</th>\n",
       "      <td>17020.373047</td>\n",
       "      <td>93.704575</td>\n",
       "      <td>14945.828125</td>\n",
       "      <td>87.691856</td>\n",
       "    </tr>\n",
       "    <tr>\n",
       "      <th>8</th>\n",
       "      <td>15825.885742</td>\n",
       "      <td>89.540932</td>\n",
       "      <td>13269.918945</td>\n",
       "      <td>78.629028</td>\n",
       "    </tr>\n",
       "    <tr>\n",
       "      <th>9</th>\n",
       "      <td>14165.613281</td>\n",
       "      <td>84.085037</td>\n",
       "      <td>12043.820312</td>\n",
       "      <td>75.598732</td>\n",
       "    </tr>\n",
       "    <tr>\n",
       "      <th>10</th>\n",
       "      <td>13106.562500</td>\n",
       "      <td>79.934616</td>\n",
       "      <td>11169.655273</td>\n",
       "      <td>72.451591</td>\n",
       "    </tr>\n",
       "    <tr>\n",
       "      <th>11</th>\n",
       "      <td>11981.093750</td>\n",
       "      <td>75.560387</td>\n",
       "      <td>10432.445312</td>\n",
       "      <td>68.627571</td>\n",
       "    </tr>\n",
       "    <tr>\n",
       "      <th>12</th>\n",
       "      <td>11126.734375</td>\n",
       "      <td>72.346725</td>\n",
       "      <td>9622.530273</td>\n",
       "      <td>66.256393</td>\n",
       "    </tr>\n",
       "    <tr>\n",
       "      <th>13</th>\n",
       "      <td>10601.300781</td>\n",
       "      <td>69.805984</td>\n",
       "      <td>9091.978516</td>\n",
       "      <td>62.074837</td>\n",
       "    </tr>\n",
       "    <tr>\n",
       "      <th>14</th>\n",
       "      <td>9864.341797</td>\n",
       "      <td>66.870239</td>\n",
       "      <td>8455.695312</td>\n",
       "      <td>61.603550</td>\n",
       "    </tr>\n",
       "    <tr>\n",
       "      <th>15</th>\n",
       "      <td>9385.511719</td>\n",
       "      <td>64.851616</td>\n",
       "      <td>7937.281738</td>\n",
       "      <td>58.383961</td>\n",
       "    </tr>\n",
       "    <tr>\n",
       "      <th>16</th>\n",
       "      <td>8986.450195</td>\n",
       "      <td>63.379772</td>\n",
       "      <td>7443.764160</td>\n",
       "      <td>57.236694</td>\n",
       "    </tr>\n",
       "    <tr>\n",
       "      <th>17</th>\n",
       "      <td>8562.947266</td>\n",
       "      <td>61.816631</td>\n",
       "      <td>6920.319336</td>\n",
       "      <td>54.462498</td>\n",
       "    </tr>\n",
       "    <tr>\n",
       "      <th>18</th>\n",
       "      <td>8364.321289</td>\n",
       "      <td>60.890930</td>\n",
       "      <td>6617.167969</td>\n",
       "      <td>52.938282</td>\n",
       "    </tr>\n",
       "    <tr>\n",
       "      <th>19</th>\n",
       "      <td>7793.093262</td>\n",
       "      <td>59.121986</td>\n",
       "      <td>6170.444336</td>\n",
       "      <td>51.658710</td>\n",
       "    </tr>\n",
       "    <tr>\n",
       "      <th>20</th>\n",
       "      <td>7344.086914</td>\n",
       "      <td>57.527107</td>\n",
       "      <td>5723.707031</td>\n",
       "      <td>51.833374</td>\n",
       "    </tr>\n",
       "    <tr>\n",
       "      <th>21</th>\n",
       "      <td>7049.652832</td>\n",
       "      <td>56.592644</td>\n",
       "      <td>5530.916016</td>\n",
       "      <td>49.095768</td>\n",
       "    </tr>\n",
       "    <tr>\n",
       "      <th>22</th>\n",
       "      <td>6721.909180</td>\n",
       "      <td>55.380562</td>\n",
       "      <td>5283.052734</td>\n",
       "      <td>48.619312</td>\n",
       "    </tr>\n",
       "    <tr>\n",
       "      <th>23</th>\n",
       "      <td>6532.485352</td>\n",
       "      <td>54.244049</td>\n",
       "      <td>5066.370117</td>\n",
       "      <td>48.048717</td>\n",
       "    </tr>\n",
       "    <tr>\n",
       "      <th>24</th>\n",
       "      <td>6081.704590</td>\n",
       "      <td>52.748825</td>\n",
       "      <td>4736.916992</td>\n",
       "      <td>45.530773</td>\n",
       "    </tr>\n",
       "  </tbody>\n",
       "</table>\n",
       "</div>"
      ],
      "text/plain": [
       "            loss         mae      val_loss     val_mae\n",
       "0   35130.589844  129.534821  20125.781250  102.913231\n",
       "1   21100.708984  106.369827  19563.511719  101.800995\n",
       "2   20312.664062  104.257744  18827.244141  100.858917\n",
       "3   19759.427734  102.985725  18051.029297   97.509148\n",
       "4   19172.560547  100.920700  17262.666016   95.582298\n",
       "5   18407.185547   98.740601  16595.738281   91.722916\n",
       "6   17731.244141   96.363960  15827.397461   90.774857\n",
       "7   17020.373047   93.704575  14945.828125   87.691856\n",
       "8   15825.885742   89.540932  13269.918945   78.629028\n",
       "9   14165.613281   84.085037  12043.820312   75.598732\n",
       "10  13106.562500   79.934616  11169.655273   72.451591\n",
       "11  11981.093750   75.560387  10432.445312   68.627571\n",
       "12  11126.734375   72.346725   9622.530273   66.256393\n",
       "13  10601.300781   69.805984   9091.978516   62.074837\n",
       "14   9864.341797   66.870239   8455.695312   61.603550\n",
       "15   9385.511719   64.851616   7937.281738   58.383961\n",
       "16   8986.450195   63.379772   7443.764160   57.236694\n",
       "17   8562.947266   61.816631   6920.319336   54.462498\n",
       "18   8364.321289   60.890930   6617.167969   52.938282\n",
       "19   7793.093262   59.121986   6170.444336   51.658710\n",
       "20   7344.086914   57.527107   5723.707031   51.833374\n",
       "21   7049.652832   56.592644   5530.916016   49.095768\n",
       "22   6721.909180   55.380562   5283.052734   48.619312\n",
       "23   6532.485352   54.244049   5066.370117   48.048717\n",
       "24   6081.704590   52.748825   4736.916992   45.530773"
      ]
     },
     "execution_count": 23,
     "metadata": {},
     "output_type": "execute_result"
    }
   ],
   "source": [
    "result_df"
   ]
  },
  {
   "cell_type": "code",
   "execution_count": 25,
   "id": "cad4f2be",
   "metadata": {},
   "outputs": [
    {
     "data": {
      "image/png": "[encoded data removed]",
      "text/plain": [
       "<Figure size 640x480 with 1 Axes>"
      ]
     },
     "metadata": {},
     "output_type": "display_data"
    }
   ],
   "source": [
    "import matplotlib.pyplot as plt\n",
    "\n",
    "plt.plot(range(1,26),result_df[\"mae\"],label=\"TRAIN_mae\")\n",
    "plt.plot(range(1,26),result_df[\"val_mae\"],label=\"TRAIN_VAL_MAE\")\n",
    "plt.legend()\n",
    "plt.show()"
   ]
  },
  {
   "cell_type": "code",
   "execution_count": 26,
   "id": "49d5f5af",
   "metadata": {},
   "outputs": [
    {
     "data": {
      "image/png": "[encoded data removed]",
      "text/plain": [
       "<Figure size 640x480 with 1 Axes>"
      ]
     },
     "metadata": {},
     "output_type": "display_data"
    }
   ],
   "source": [
    "plt.plot(range(1,26),result_df[\"loss\"],label=\"TRAIN_loss\")\n",
    "plt.plot(range(1,26),result_df[\"val_loss\"],label=\"TRAIN_VAL_LOSS\")\n",
    "plt.legend()\n",
    "plt.show()"
   ]
  },
  {
   "cell_type": "code",
   "execution_count": 27,
   "id": "60f67e30",
   "metadata": {},
   "outputs": [
    {
     "name": "stdout",
     "output_type": "stream",
     "text": [
      "\u001b[1m109/109\u001b[0m \u001b[32m━━━━━━━━━━━━━━━━━━━━\u001b[0m\u001b[37m\u001b[0m \u001b[1m0s\u001b[0m 1ms/step - loss: 4441.5317 - mae: 43.8983\n",
      "MAE: 43.85588073730469\n"
     ]
    }
   ],
   "source": [
    "loss, mae = model.evaluate(x_test_scaled, y_test)\n",
    "print(\"MAE:\", mae)"
   ]
  },
  {
   "cell_type": "code",
   "execution_count": 28,
   "id": "11fdcaff",
   "metadata": {},
   "outputs": [
    {
     "name": "stderr",
     "output_type": "stream",
     "text": [
      "WARNING:absl:You are saving your model as an HDF5 file via `model.save()` or `keras.saving.save_model(model)`. This file format is considered legacy. We recommend using instead the native Keras format, e.g. `model.save('my_model.keras')` or `keras.saving.save_model(model, 'my_model.keras')`. \n"
     ]
    }
   ],
   "source": [
    "model.save(\"bike_sharing.h5\")"
   ]
  },
  {
   "cell_type": "code",
   "execution_count": 29,
   "id": "9f9476e7",
   "metadata": {},
   "outputs": [],
   "source": [
    "import pickle\n",
    "\n",
    "with open (\"scaler.pkl\",\"wb\")as f:\n",
    "    pickle.dump(scaler,f)\n",
    "    "
   ]
  },
  {
   "cell_type": "code",
   "execution_count": 32,
   "id": "005640e3",
   "metadata": {},
   "outputs": [
    {
     "name": "stdout",
     "output_type": "stream",
     "text": [
      "['season', 'yr', 'mnth', 'hr', 'holiday', 'weekday', 'workingday', 'weathersit', 'temp', 'atemp', 'hum', 'windspeed', 'hour']\n",
      "Total features used in model: 13\n"
     ]
    }
   ],
   "source": [
    "print(x_train.columns.tolist())\n",
    "print(\"Total features used in model:\", x_train.shape[1])"
   ]
  },
  {
   "cell_type": "code",
   "execution_count": null,
   "id": "8a9235a6",
   "metadata": {},
   "outputs": [],
   "source": []
  }
 ],
 "metadata": {
  "kernelspec": {
   "display_name": "Python 3",
   "language": "python",
   "name": "python3"
  },
  "language_info": {
   "codemirror_mode": {
    "name": "ipython",
    "version": 3
   },
   "file_extension": ".py",
   "mimetype": "text/x-python",
   "name": "python",
   "nbconvert_exporter": "python",
   "pygments_lexer": "ipython3",
   "version": "3.10.11"
  }
 },
 "nbformat": 4,
 "nbformat_minor": 5
}
